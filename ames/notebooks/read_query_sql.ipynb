{
 "cells": [
  {
   "cell_type": "code",
   "execution_count": 5,
   "id": "925e683e",
   "metadata": {},
   "outputs": [
    {
     "name": "stdout",
     "output_type": "stream",
     "text": [
      "The kedro.extras.extensions.ipython extension is already loaded. To reload it, use:\n",
      "  %reload_ext kedro.extras.extensions.ipython\n",
      "2022-04-20 20:40:48,708 - root - INFO - No path argument was provided. Using: /Users/vpb/Documents/01_ds/git/03_kedro/ames\n",
      "2022-04-20 20:40:48,825 - kedro.framework.session.store - INFO - `read()` not implemented for `BaseSessionStore`. Assuming empty store.\n",
      "2022-04-20 20:40:48,903 - root - INFO - ** Kedro project ames\n",
      "2022-04-20 20:40:48,904 - root - INFO - Defined global variable `context`, `session`, `catalog` and `pipelines`\n"
     ]
    }
   ],
   "source": [
    "%load_ext kedro.extras.extensions.ipython\n",
    "%reload_kedro"
   ]
  },
  {
   "cell_type": "code",
   "execution_count": 7,
   "id": "851e1e35",
   "metadata": {},
   "outputs": [
    {
     "data": {
      "text/plain": [
       "<kedro.io.data_catalog.DataCatalog at 0x7fcce004c438>"
      ]
     },
     "execution_count": 7,
     "metadata": {},
     "output_type": "execute_result"
    }
   ],
   "source": [
    "catalog"
   ]
  },
  {
   "cell_type": "code",
   "execution_count": 8,
   "id": "115b63dd",
   "metadata": {},
   "outputs": [
    {
     "name": "stdout",
     "output_type": "stream",
     "text": [
      "2022-04-20 20:45:50,028 - kedro.io.data_catalog - INFO - Loading data from `alldata` (CSVDataSet)...\n"
     ]
    }
   ],
   "source": [
    "alldata = catalog.load('alldata')"
   ]
  },
  {
   "cell_type": "code",
   "execution_count": 9,
   "id": "625950c1",
   "metadata": {},
   "outputs": [
    {
     "name": "stdout",
     "output_type": "stream",
     "text": [
      "2022-04-20 20:45:50,456 - kedro.io.data_catalog - INFO - Loading data from `query` (TextDataSet)...\n"
     ]
    }
   ],
   "source": [
    "query = catalog.load('query')"
   ]
  },
  {
   "cell_type": "code",
   "execution_count": 10,
   "id": "0d930121",
   "metadata": {},
   "outputs": [
    {
     "name": "stdout",
     "output_type": "stream",
     "text": [
      "select\n",
      "    user_id\n",
      "    , count(*) as num_transactions\n",
      "    , sum(amount) as total_amount\n",
      "from\n",
      "    transactions\n",
      "where\n",
      "    user_id = {{ ref }}\n",
      "    and transaction_date = {{ particao_publico }}\n",
      "group by\n",
      "    user_id\n"
     ]
    }
   ],
   "source": [
    "print(query)"
   ]
  },
  {
   "cell_type": "code",
   "execution_count": null,
   "id": "991df14c",
   "metadata": {},
   "outputs": [],
   "source": []
  },
  {
   "cell_type": "code",
   "execution_count": null,
   "id": "e938bd12",
   "metadata": {},
   "outputs": [],
   "source": [
    "ref = '202202'\n",
    "particao_publico = 'teste_v1'\n",
    "\n",
    "params = {\n",
    "    'ref': ref,\n",
    "    'particao_publico': particao_publico\n",
    "}"
   ]
  },
  {
   "cell_type": "code",
   "execution_count": null,
   "id": "8355171d",
   "metadata": {},
   "outputs": [],
   "source": [
    "j = JinjaSql(param_style='pyformat')\n",
    "query_binded, bind_params = j.prepare_query(query_template, params)"
   ]
  },
  {
   "cell_type": "code",
   "execution_count": null,
   "id": "9c7893e0",
   "metadata": {},
   "outputs": [],
   "source": [
    "print(query_binded)\n",
    "\n",
    "print(bind_params)\n",
    "\n",
    "final_query = (query_binded % bind_params)\n",
    "\n",
    "print(final_query)"
   ]
  }
 ],
 "metadata": {
  "kernelspec": {
   "display_name": "Python 3 (ipykernel)",
   "language": "python",
   "name": "python3"
  },
  "language_info": {
   "codemirror_mode": {
    "name": "ipython",
    "version": 3
   },
   "file_extension": ".py",
   "mimetype": "text/x-python",
   "name": "python",
   "nbconvert_exporter": "python",
   "pygments_lexer": "ipython3",
   "version": "3.7.0"
  }
 },
 "nbformat": 4,
 "nbformat_minor": 5
}
