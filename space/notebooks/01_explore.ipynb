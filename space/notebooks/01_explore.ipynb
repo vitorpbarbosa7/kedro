{
 "cells": [
  {
   "cell_type": "markdown",
   "id": "9b76455f",
   "metadata": {},
   "source": [
    "# Boiler"
   ]
  },
  {
   "cell_type": "code",
   "execution_count": 1,
   "id": "da04f377",
   "metadata": {
    "ExecuteTime": {
     "end_time": "2022-02-05T20:34:44.273699Z",
     "start_time": "2022-02-05T20:34:43.087773Z"
    }
   },
   "outputs": [
    {
     "name": "stderr",
     "output_type": "stream",
     "text": [
      "/home/vpb/anaconda3/envs/kenva/lib/python3.7/site-packages/seaborn/rcmod.py:82: DeprecationWarning: distutils Version classes are deprecated. Use packaging.version instead.\n",
      "  if LooseVersion(mpl.__version__) >= \"3.0\":\n",
      "/home/vpb/anaconda3/envs/kenva/lib/python3.7/site-packages/setuptools/_distutils/version.py:351: DeprecationWarning: distutils Version classes are deprecated. Use packaging.version instead.\n",
      "  other = LooseVersion(other)\n",
      "/home/vpb/anaconda3/envs/kenva/lib/python3.7/site-packages/statsmodels/compat/pandas.py:35: DeprecationWarning: distutils Version classes are deprecated. Use packaging.version instead.\n",
      "  version = LooseVersion(pd.__version__)\n",
      "/home/vpb/anaconda3/envs/kenva/lib/python3.7/site-packages/statsmodels/compat/pandas.py:37: DeprecationWarning: distutils Version classes are deprecated. Use packaging.version instead.\n",
      "  pandas_lt_1_0_0 = version < LooseVersion(\"1.0.0\")\n"
     ]
    },
    {
     "name": "stdout",
     "output_type": "stream",
     "text": [
      "2022-02-05 18:16:23,023 - root - INFO - ** Kedro project spaceflights\n",
      "2022-02-05 18:16:23,024 - root - INFO - Defined global variable `context` and `catalog`\n"
     ]
    }
   ],
   "source": [
    "import pandas as pd \n",
    "import pandasql as ps\n",
    "import matplotlib.pyplot as plt \n",
    "import numpy as np\n",
    "import seaborn as sns\n",
    "import scipy.stats as stats\n",
    "import statsmodels.stats.api as sms\n",
    "\n",
    "from IPython.display import display\n",
    "from IPython.display import Markdown as md\n",
    "from IPython.core.interactiveshell import InteractiveShell\n",
    "InteractiveShell.ast_node_interactivity = \"all\"\n",
    "\n",
    "def f():\n",
    "    pd.set_option('display.max_columns', None)\n",
    "    pd.set_option('display.max_rows', None)\n",
    "    \n",
    "def nf():\n",
    "    pd.set_option('display.max_columns', None)\n",
    "    pd.set_option('display.max_rows', 4)\n",
    "\n",
    "import warnings\n",
    "warnings.filterwarnings('ignore')\n",
    "\n",
    "def dp(df, r = 5, c = None):\n",
    "    from IPython.display import display\n",
    "    with pd.option_context('display.max_rows', 4, 'display.max_columns', None):\n",
    "        display(df)\n",
    "\n",
    "def fg(w = 10, h = 7, dpi = 200):\n",
    "    plt.rcParams['figure.figsize'] = (w,h)\n",
    "    plt.rcParams['figure.dpi'] = dpi\n",
    "fg()\n",
    "\n",
    "%reload_kedro"
   ]
  },
  {
   "cell_type": "code",
   "execution_count": null,
   "id": "a9f0c37b",
   "metadata": {},
   "outputs": [],
   "source": []
  },
  {
   "cell_type": "code",
   "execution_count": null,
   "id": "8d7e014e",
   "metadata": {},
   "outputs": [],
   "source": []
  },
  {
   "cell_type": "code",
   "execution_count": null,
   "id": "2b86938a",
   "metadata": {},
   "outputs": [],
   "source": []
  },
  {
   "cell_type": "code",
   "execution_count": null,
   "id": "feeced31",
   "metadata": {},
   "outputs": [],
   "source": []
  },
  {
   "cell_type": "markdown",
   "id": "33025008",
   "metadata": {},
   "source": [
    "# path"
   ]
  },
  {
   "cell_type": "code",
   "execution_count": 2,
   "id": "3104858c",
   "metadata": {
    "ExecuteTime": {
     "end_time": "2022-02-05T20:34:44.278948Z",
     "start_time": "2022-02-05T20:34:44.275857Z"
    }
   },
   "outputs": [],
   "source": [
    "raw = '../data/01_raw/'"
   ]
  },
  {
   "cell_type": "code",
   "execution_count": 3,
   "id": "8fe17339",
   "metadata": {
    "ExecuteTime": {
     "end_time": "2022-02-05T20:34:44.415072Z",
     "start_time": "2022-02-05T20:34:44.281223Z"
    }
   },
   "outputs": [
    {
     "name": "stdout",
     "output_type": "stream",
     "text": [
      "\u001b[0m\u001b[103;30;01m01_raw\u001b[0m/           \u001b[103;30;01m03_primary\u001b[0m/  \u001b[103;30;01m05_model_input\u001b[0m/  \u001b[103;30;01m07_model_output\u001b[0m/\n",
      "\u001b[103;30;01m02_intermediate\u001b[0m/  \u001b[103;30;01m04_feature\u001b[0m/  \u001b[103;30;01m06_models\u001b[0m/       \u001b[103;30;01m08_reporting\u001b[0m/\n"
     ]
    }
   ],
   "source": [
    "ls ../data"
   ]
  },
  {
   "cell_type": "code",
   "execution_count": 4,
   "id": "b4b586ef",
   "metadata": {
    "ExecuteTime": {
     "end_time": "2022-02-05T20:34:44.484129Z",
     "start_time": "2022-02-05T20:34:44.418755Z"
    }
   },
   "outputs": [
    {
     "name": "stdout",
     "output_type": "stream",
     "text": [
      "2022-02-05 17:34:44,420 - kedro.io.data_catalog - INFO - Loading data from `companies` (CSVDataSet)...\n"
     ]
    }
   ],
   "source": [
    "companies = catalog.load('companies')"
   ]
  },
  {
   "cell_type": "code",
   "execution_count": 5,
   "id": "cfbc171f",
   "metadata": {
    "ExecuteTime": {
     "end_time": "2022-02-05T20:34:44.504729Z",
     "start_time": "2022-02-05T20:34:44.485780Z"
    }
   },
   "outputs": [
    {
     "data": {
      "text/html": [
       "<div>\n",
       "<style scoped>\n",
       "    .dataframe tbody tr th:only-of-type {\n",
       "        vertical-align: middle;\n",
       "    }\n",
       "\n",
       "    .dataframe tbody tr th {\n",
       "        vertical-align: top;\n",
       "    }\n",
       "\n",
       "    .dataframe thead th {\n",
       "        text-align: right;\n",
       "    }\n",
       "</style>\n",
       "<table border=\"1\" class=\"dataframe\">\n",
       "  <thead>\n",
       "    <tr style=\"text-align: right;\">\n",
       "      <th></th>\n",
       "      <th>id</th>\n",
       "      <th>company_rating</th>\n",
       "      <th>company_location</th>\n",
       "      <th>total_fleet_count</th>\n",
       "      <th>iata_approved</th>\n",
       "    </tr>\n",
       "  </thead>\n",
       "  <tbody>\n",
       "    <tr>\n",
       "      <th>0</th>\n",
       "      <td>35029</td>\n",
       "      <td>100%</td>\n",
       "      <td>Niue</td>\n",
       "      <td>4.0</td>\n",
       "      <td>f</td>\n",
       "    </tr>\n",
       "    <tr>\n",
       "      <th>1</th>\n",
       "      <td>30292</td>\n",
       "      <td>67%</td>\n",
       "      <td>Anguilla</td>\n",
       "      <td>6.0</td>\n",
       "      <td>f</td>\n",
       "    </tr>\n",
       "    <tr>\n",
       "      <th>2</th>\n",
       "      <td>19032</td>\n",
       "      <td>67%</td>\n",
       "      <td>Russian Federation</td>\n",
       "      <td>4.0</td>\n",
       "      <td>f</td>\n",
       "    </tr>\n",
       "    <tr>\n",
       "      <th>3</th>\n",
       "      <td>8238</td>\n",
       "      <td>91%</td>\n",
       "      <td>Barbados</td>\n",
       "      <td>15.0</td>\n",
       "      <td>t</td>\n",
       "    </tr>\n",
       "    <tr>\n",
       "      <th>4</th>\n",
       "      <td>30342</td>\n",
       "      <td>NaN</td>\n",
       "      <td>Sao Tome and Principe</td>\n",
       "      <td>2.0</td>\n",
       "      <td>t</td>\n",
       "    </tr>\n",
       "    <tr>\n",
       "      <th>...</th>\n",
       "      <td>...</td>\n",
       "      <td>...</td>\n",
       "      <td>...</td>\n",
       "      <td>...</td>\n",
       "      <td>...</td>\n",
       "    </tr>\n",
       "    <tr>\n",
       "      <th>77091</th>\n",
       "      <td>6654</td>\n",
       "      <td>100%</td>\n",
       "      <td>Tonga</td>\n",
       "      <td>3.0</td>\n",
       "      <td>f</td>\n",
       "    </tr>\n",
       "    <tr>\n",
       "      <th>77092</th>\n",
       "      <td>8000</td>\n",
       "      <td>NaN</td>\n",
       "      <td>Chile</td>\n",
       "      <td>2.0</td>\n",
       "      <td>t</td>\n",
       "    </tr>\n",
       "    <tr>\n",
       "      <th>77093</th>\n",
       "      <td>14296</td>\n",
       "      <td>NaN</td>\n",
       "      <td>Netherlands</td>\n",
       "      <td>4.0</td>\n",
       "      <td>f</td>\n",
       "    </tr>\n",
       "    <tr>\n",
       "      <th>77094</th>\n",
       "      <td>27363</td>\n",
       "      <td>80%</td>\n",
       "      <td>NaN</td>\n",
       "      <td>3.0</td>\n",
       "      <td>t</td>\n",
       "    </tr>\n",
       "    <tr>\n",
       "      <th>77095</th>\n",
       "      <td>12542</td>\n",
       "      <td>98%</td>\n",
       "      <td>Mauritania</td>\n",
       "      <td>19.0</td>\n",
       "      <td>t</td>\n",
       "    </tr>\n",
       "  </tbody>\n",
       "</table>\n",
       "<p>77096 rows × 5 columns</p>\n",
       "</div>"
      ],
      "text/plain": [
       "          id company_rating       company_location  total_fleet_count  \\\n",
       "0      35029           100%                   Niue                4.0   \n",
       "1      30292            67%               Anguilla                6.0   \n",
       "2      19032            67%     Russian Federation                4.0   \n",
       "3       8238            91%               Barbados               15.0   \n",
       "4      30342            NaN  Sao Tome and Principe                2.0   \n",
       "...      ...            ...                    ...                ...   \n",
       "77091   6654           100%                  Tonga                3.0   \n",
       "77092   8000            NaN                  Chile                2.0   \n",
       "77093  14296            NaN            Netherlands                4.0   \n",
       "77094  27363            80%                    NaN                3.0   \n",
       "77095  12542            98%             Mauritania               19.0   \n",
       "\n",
       "      iata_approved  \n",
       "0                 f  \n",
       "1                 f  \n",
       "2                 f  \n",
       "3                 t  \n",
       "4                 t  \n",
       "...             ...  \n",
       "77091             f  \n",
       "77092             t  \n",
       "77093             f  \n",
       "77094             t  \n",
       "77095             t  \n",
       "\n",
       "[77096 rows x 5 columns]"
      ]
     },
     "execution_count": 5,
     "metadata": {},
     "output_type": "execute_result"
    }
   ],
   "source": [
    "companies"
   ]
  },
  {
   "cell_type": "code",
   "execution_count": 6,
   "id": "c3572855",
   "metadata": {
    "ExecuteTime": {
     "end_time": "2022-02-05T20:34:44.624102Z",
     "start_time": "2022-02-05T20:34:44.506935Z"
    }
   },
   "outputs": [
    {
     "name": "stdout",
     "output_type": "stream",
     "text": [
      "2022-02-05 17:34:44,507 - kedro.io.data_catalog - INFO - Loading data from `reviews` (CSVDataSet)...\n"
     ]
    }
   ],
   "source": [
    "reviews = catalog.load('reviews')"
   ]
  },
  {
   "cell_type": "code",
   "execution_count": 7,
   "id": "a465bd8e",
   "metadata": {
    "ExecuteTime": {
     "end_time": "2022-02-05T20:34:44.656279Z",
     "start_time": "2022-02-05T20:34:44.627892Z"
    }
   },
   "outputs": [
    {
     "data": {
      "text/html": [
       "<div>\n",
       "<style scoped>\n",
       "    .dataframe tbody tr th:only-of-type {\n",
       "        vertical-align: middle;\n",
       "    }\n",
       "\n",
       "    .dataframe tbody tr th {\n",
       "        vertical-align: top;\n",
       "    }\n",
       "\n",
       "    .dataframe thead th {\n",
       "        text-align: right;\n",
       "    }\n",
       "</style>\n",
       "<table border=\"1\" class=\"dataframe\">\n",
       "  <thead>\n",
       "    <tr style=\"text-align: right;\">\n",
       "      <th></th>\n",
       "      <th>shuttle_id</th>\n",
       "      <th>review_scores_rating</th>\n",
       "      <th>review_scores_comfort</th>\n",
       "      <th>review_scores_amenities</th>\n",
       "      <th>review_scores_trip</th>\n",
       "      <th>review_scores_crew</th>\n",
       "      <th>review_scores_location</th>\n",
       "      <th>review_scores_price</th>\n",
       "      <th>number_of_reviews</th>\n",
       "      <th>reviews_per_month</th>\n",
       "    </tr>\n",
       "  </thead>\n",
       "  <tbody>\n",
       "    <tr>\n",
       "      <th>0</th>\n",
       "      <td>63561</td>\n",
       "      <td>97.0</td>\n",
       "      <td>10.0</td>\n",
       "      <td>9.0</td>\n",
       "      <td>10.0</td>\n",
       "      <td>10.0</td>\n",
       "      <td>9.0</td>\n",
       "      <td>10.0</td>\n",
       "      <td>133</td>\n",
       "      <td>1.65</td>\n",
       "    </tr>\n",
       "    <tr>\n",
       "      <th>1</th>\n",
       "      <td>36260</td>\n",
       "      <td>90.0</td>\n",
       "      <td>8.0</td>\n",
       "      <td>9.0</td>\n",
       "      <td>10.0</td>\n",
       "      <td>9.0</td>\n",
       "      <td>9.0</td>\n",
       "      <td>9.0</td>\n",
       "      <td>3</td>\n",
       "      <td>0.09</td>\n",
       "    </tr>\n",
       "    <tr>\n",
       "      <th>2</th>\n",
       "      <td>57015</td>\n",
       "      <td>95.0</td>\n",
       "      <td>9.0</td>\n",
       "      <td>10.0</td>\n",
       "      <td>9.0</td>\n",
       "      <td>10.0</td>\n",
       "      <td>9.0</td>\n",
       "      <td>9.0</td>\n",
       "      <td>14</td>\n",
       "      <td>0.14</td>\n",
       "    </tr>\n",
       "    <tr>\n",
       "      <th>3</th>\n",
       "      <td>14035</td>\n",
       "      <td>93.0</td>\n",
       "      <td>10.0</td>\n",
       "      <td>9.0</td>\n",
       "      <td>9.0</td>\n",
       "      <td>9.0</td>\n",
       "      <td>10.0</td>\n",
       "      <td>9.0</td>\n",
       "      <td>39</td>\n",
       "      <td>0.42</td>\n",
       "    </tr>\n",
       "    <tr>\n",
       "      <th>4</th>\n",
       "      <td>10036</td>\n",
       "      <td>98.0</td>\n",
       "      <td>10.0</td>\n",
       "      <td>10.0</td>\n",
       "      <td>10.0</td>\n",
       "      <td>10.0</td>\n",
       "      <td>9.0</td>\n",
       "      <td>9.0</td>\n",
       "      <td>92</td>\n",
       "      <td>0.94</td>\n",
       "    </tr>\n",
       "    <tr>\n",
       "      <th>...</th>\n",
       "      <td>...</td>\n",
       "      <td>...</td>\n",
       "      <td>...</td>\n",
       "      <td>...</td>\n",
       "      <td>...</td>\n",
       "      <td>...</td>\n",
       "      <td>...</td>\n",
       "      <td>...</td>\n",
       "      <td>...</td>\n",
       "      <td>...</td>\n",
       "    </tr>\n",
       "    <tr>\n",
       "      <th>77091</th>\n",
       "      <td>4368</td>\n",
       "      <td>NaN</td>\n",
       "      <td>NaN</td>\n",
       "      <td>NaN</td>\n",
       "      <td>NaN</td>\n",
       "      <td>NaN</td>\n",
       "      <td>NaN</td>\n",
       "      <td>NaN</td>\n",
       "      <td>0</td>\n",
       "      <td>NaN</td>\n",
       "    </tr>\n",
       "    <tr>\n",
       "      <th>77092</th>\n",
       "      <td>2983</td>\n",
       "      <td>NaN</td>\n",
       "      <td>NaN</td>\n",
       "      <td>NaN</td>\n",
       "      <td>NaN</td>\n",
       "      <td>NaN</td>\n",
       "      <td>NaN</td>\n",
       "      <td>NaN</td>\n",
       "      <td>0</td>\n",
       "      <td>NaN</td>\n",
       "    </tr>\n",
       "    <tr>\n",
       "      <th>77093</th>\n",
       "      <td>69684</td>\n",
       "      <td>NaN</td>\n",
       "      <td>NaN</td>\n",
       "      <td>NaN</td>\n",
       "      <td>NaN</td>\n",
       "      <td>NaN</td>\n",
       "      <td>NaN</td>\n",
       "      <td>NaN</td>\n",
       "      <td>0</td>\n",
       "      <td>NaN</td>\n",
       "    </tr>\n",
       "    <tr>\n",
       "      <th>77094</th>\n",
       "      <td>21738</td>\n",
       "      <td>NaN</td>\n",
       "      <td>NaN</td>\n",
       "      <td>NaN</td>\n",
       "      <td>NaN</td>\n",
       "      <td>NaN</td>\n",
       "      <td>NaN</td>\n",
       "      <td>NaN</td>\n",
       "      <td>0</td>\n",
       "      <td>NaN</td>\n",
       "    </tr>\n",
       "    <tr>\n",
       "      <th>77095</th>\n",
       "      <td>72645</td>\n",
       "      <td>NaN</td>\n",
       "      <td>NaN</td>\n",
       "      <td>NaN</td>\n",
       "      <td>NaN</td>\n",
       "      <td>NaN</td>\n",
       "      <td>NaN</td>\n",
       "      <td>NaN</td>\n",
       "      <td>0</td>\n",
       "      <td>NaN</td>\n",
       "    </tr>\n",
       "  </tbody>\n",
       "</table>\n",
       "<p>77096 rows × 10 columns</p>\n",
       "</div>"
      ],
      "text/plain": [
       "       shuttle_id  review_scores_rating  review_scores_comfort  \\\n",
       "0           63561                  97.0                   10.0   \n",
       "1           36260                  90.0                    8.0   \n",
       "2           57015                  95.0                    9.0   \n",
       "3           14035                  93.0                   10.0   \n",
       "4           10036                  98.0                   10.0   \n",
       "...           ...                   ...                    ...   \n",
       "77091        4368                   NaN                    NaN   \n",
       "77092        2983                   NaN                    NaN   \n",
       "77093       69684                   NaN                    NaN   \n",
       "77094       21738                   NaN                    NaN   \n",
       "77095       72645                   NaN                    NaN   \n",
       "\n",
       "       review_scores_amenities  review_scores_trip  review_scores_crew  \\\n",
       "0                          9.0                10.0                10.0   \n",
       "1                          9.0                10.0                 9.0   \n",
       "2                         10.0                 9.0                10.0   \n",
       "3                          9.0                 9.0                 9.0   \n",
       "4                         10.0                10.0                10.0   \n",
       "...                        ...                 ...                 ...   \n",
       "77091                      NaN                 NaN                 NaN   \n",
       "77092                      NaN                 NaN                 NaN   \n",
       "77093                      NaN                 NaN                 NaN   \n",
       "77094                      NaN                 NaN                 NaN   \n",
       "77095                      NaN                 NaN                 NaN   \n",
       "\n",
       "       review_scores_location  review_scores_price  number_of_reviews  \\\n",
       "0                         9.0                 10.0                133   \n",
       "1                         9.0                  9.0                  3   \n",
       "2                         9.0                  9.0                 14   \n",
       "3                        10.0                  9.0                 39   \n",
       "4                         9.0                  9.0                 92   \n",
       "...                       ...                  ...                ...   \n",
       "77091                     NaN                  NaN                  0   \n",
       "77092                     NaN                  NaN                  0   \n",
       "77093                     NaN                  NaN                  0   \n",
       "77094                     NaN                  NaN                  0   \n",
       "77095                     NaN                  NaN                  0   \n",
       "\n",
       "       reviews_per_month  \n",
       "0                   1.65  \n",
       "1                   0.09  \n",
       "2                   0.14  \n",
       "3                   0.42  \n",
       "4                   0.94  \n",
       "...                  ...  \n",
       "77091                NaN  \n",
       "77092                NaN  \n",
       "77093                NaN  \n",
       "77094                NaN  \n",
       "77095                NaN  \n",
       "\n",
       "[77096 rows x 10 columns]"
      ]
     },
     "execution_count": 7,
     "metadata": {},
     "output_type": "execute_result"
    }
   ],
   "source": [
    "reviews"
   ]
  },
  {
   "cell_type": "markdown",
   "id": "80129cf0",
   "metadata": {},
   "source": [
    "## shuttles"
   ]
  },
  {
   "cell_type": "code",
   "execution_count": 8,
   "id": "d6ef714d",
   "metadata": {
    "ExecuteTime": {
     "end_time": "2022-02-05T20:34:44.783893Z",
     "start_time": "2022-02-05T20:34:44.659257Z"
    }
   },
   "outputs": [
    {
     "name": "stdout",
     "output_type": "stream",
     "text": [
      "\u001b[0m\u001b[01;32mcompanies.csv\u001b[0m*  \u001b[01;32mreviews.csv\u001b[0m*  \u001b[01;32mshuttles.xlsx\u001b[0m*\n"
     ]
    }
   ],
   "source": [
    "ls ../data/01_raw"
   ]
  },
  {
   "cell_type": "code",
   "execution_count": 9,
   "id": "3365739f",
   "metadata": {
    "ExecuteTime": {
     "end_time": "2022-02-05T20:34:44.913202Z",
     "start_time": "2022-02-05T20:34:44.786218Z"
    }
   },
   "outputs": [
    {
     "name": "stdout",
     "output_type": "stream",
     "text": [
      "# Here you can define all your data sets by using simple YAML syntax.\n",
      "#\n",
      "# Documentation for this file format can be found in \"The Data Catalog\"\n",
      "# Link: https://kedro.readthedocs.io/en/stable/04_user_guide/04_data_catalog.html\n",
      "\n",
      "\n",
      "companies:\n",
      "  type: pandas.CSVDataSet\n",
      "  filepath: data/01_raw/companies.csv\n",
      "\n",
      "reviews:\n",
      "  type: pandas.CSVDataSet\n",
      "  filepath: data/01_raw/reviews.csv\n",
      "\n",
      "shuttles:\n",
      "  type: pandas.ExcelDataSet\n",
      "  filepath: data/01_raw/shuttles.xlsx\n"
     ]
    }
   ],
   "source": [
    "! cat ../conf/base/catalog.yml"
   ]
  },
  {
   "cell_type": "code",
   "execution_count": 10,
   "id": "c5977198",
   "metadata": {
    "ExecuteTime": {
     "end_time": "2022-02-05T20:34:54.144991Z",
     "start_time": "2022-02-05T20:34:44.919018Z"
    }
   },
   "outputs": [
    {
     "name": "stdout",
     "output_type": "stream",
     "text": [
      "2022-02-05 17:34:44,924 - kedro.io.data_catalog - INFO - Loading data from `shuttles` (ExcelDataSet)...\n"
     ]
    }
   ],
   "source": [
    "shuttles = catalog.load('shuttles')"
   ]
  },
  {
   "cell_type": "code",
   "execution_count": 11,
   "id": "7d677e26",
   "metadata": {
    "ExecuteTime": {
     "end_time": "2022-02-05T20:34:54.167141Z",
     "start_time": "2022-02-05T20:34:54.146587Z"
    }
   },
   "outputs": [
    {
     "data": {
      "text/html": [
       "<div>\n",
       "<style scoped>\n",
       "    .dataframe tbody tr th:only-of-type {\n",
       "        vertical-align: middle;\n",
       "    }\n",
       "\n",
       "    .dataframe tbody tr th {\n",
       "        vertical-align: top;\n",
       "    }\n",
       "\n",
       "    .dataframe thead th {\n",
       "        text-align: right;\n",
       "    }\n",
       "</style>\n",
       "<table border=\"1\" class=\"dataframe\">\n",
       "  <thead>\n",
       "    <tr style=\"text-align: right;\">\n",
       "      <th></th>\n",
       "      <th>id</th>\n",
       "      <th>shuttle_location</th>\n",
       "      <th>shuttle_type</th>\n",
       "      <th>engine_type</th>\n",
       "      <th>engine_vendor</th>\n",
       "      <th>engines</th>\n",
       "      <th>passenger_capacity</th>\n",
       "      <th>cancellation_policy</th>\n",
       "      <th>crew</th>\n",
       "      <th>d_check_complete</th>\n",
       "      <th>moon_clearance_complete</th>\n",
       "      <th>price</th>\n",
       "      <th>company_id</th>\n",
       "    </tr>\n",
       "  </thead>\n",
       "  <tbody>\n",
       "    <tr>\n",
       "      <th>16084</th>\n",
       "      <td>12700</td>\n",
       "      <td>Russian Federation</td>\n",
       "      <td>Type V5</td>\n",
       "      <td>Plasma</td>\n",
       "      <td>ThetaBase Services</td>\n",
       "      <td>2.0</td>\n",
       "      <td>4</td>\n",
       "      <td>flexible</td>\n",
       "      <td>2.0</td>\n",
       "      <td>f</td>\n",
       "      <td>f</td>\n",
       "      <td>$2,430.0</td>\n",
       "      <td>24047</td>\n",
       "    </tr>\n",
       "    <tr>\n",
       "      <th>24232</th>\n",
       "      <td>18072</td>\n",
       "      <td>Rwanda</td>\n",
       "      <td>Type F5</td>\n",
       "      <td>Quantum</td>\n",
       "      <td>SIT Technology Unlimited</td>\n",
       "      <td>1.0</td>\n",
       "      <td>1</td>\n",
       "      <td>flexible</td>\n",
       "      <td>1.0</td>\n",
       "      <td>f</td>\n",
       "      <td>f</td>\n",
       "      <td>$1,195.0</td>\n",
       "      <td>3737</td>\n",
       "    </tr>\n",
       "    <tr>\n",
       "      <th>52505</th>\n",
       "      <td>25769</td>\n",
       "      <td>Barbados</td>\n",
       "      <td>Type V5</td>\n",
       "      <td>Quantum</td>\n",
       "      <td>ThetaBase Services</td>\n",
       "      <td>1.0</td>\n",
       "      <td>2</td>\n",
       "      <td>flexible</td>\n",
       "      <td>1.0</td>\n",
       "      <td>f</td>\n",
       "      <td>f</td>\n",
       "      <td>$2,495.0</td>\n",
       "      <td>31652</td>\n",
       "    </tr>\n",
       "    <tr>\n",
       "      <th>25760</th>\n",
       "      <td>74294</td>\n",
       "      <td>Nicaragua</td>\n",
       "      <td>Type G0</td>\n",
       "      <td>Quantum</td>\n",
       "      <td>ThetaBase Services</td>\n",
       "      <td>1.0</td>\n",
       "      <td>1</td>\n",
       "      <td>strict</td>\n",
       "      <td>1.0</td>\n",
       "      <td>f</td>\n",
       "      <td>f</td>\n",
       "      <td>$5,550.0</td>\n",
       "      <td>19842</td>\n",
       "    </tr>\n",
       "    <tr>\n",
       "      <th>28939</th>\n",
       "      <td>59933</td>\n",
       "      <td>Nicaragua</td>\n",
       "      <td>Type F5</td>\n",
       "      <td>Quantum</td>\n",
       "      <td>ThetaBase Services</td>\n",
       "      <td>1.0</td>\n",
       "      <td>2</td>\n",
       "      <td>flexible</td>\n",
       "      <td>1.0</td>\n",
       "      <td>f</td>\n",
       "      <td>f</td>\n",
       "      <td>$1,455.0</td>\n",
       "      <td>18409</td>\n",
       "    </tr>\n",
       "  </tbody>\n",
       "</table>\n",
       "</div>"
      ],
      "text/plain": [
       "          id    shuttle_location shuttle_type engine_type  \\\n",
       "16084  12700  Russian Federation      Type V5      Plasma   \n",
       "24232  18072              Rwanda      Type F5     Quantum   \n",
       "52505  25769            Barbados      Type V5     Quantum   \n",
       "25760  74294           Nicaragua      Type G0     Quantum   \n",
       "28939  59933           Nicaragua      Type F5     Quantum   \n",
       "\n",
       "                  engine_vendor  engines  passenger_capacity  \\\n",
       "16084        ThetaBase Services      2.0                   4   \n",
       "24232  SIT Technology Unlimited      1.0                   1   \n",
       "52505        ThetaBase Services      1.0                   2   \n",
       "25760        ThetaBase Services      1.0                   1   \n",
       "28939        ThetaBase Services      1.0                   2   \n",
       "\n",
       "      cancellation_policy  crew d_check_complete moon_clearance_complete  \\\n",
       "16084            flexible   2.0                f                       f   \n",
       "24232            flexible   1.0                f                       f   \n",
       "52505            flexible   1.0                f                       f   \n",
       "25760              strict   1.0                f                       f   \n",
       "28939            flexible   1.0                f                       f   \n",
       "\n",
       "          price  company_id  \n",
       "16084  $2,430.0       24047  \n",
       "24232  $1,195.0        3737  \n",
       "52505  $2,495.0       31652  \n",
       "25760  $5,550.0       19842  \n",
       "28939  $1,455.0       18409  "
      ]
     },
     "execution_count": 11,
     "metadata": {},
     "output_type": "execute_result"
    }
   ],
   "source": [
    "shuttles.sample(5)"
   ]
  },
  {
   "cell_type": "markdown",
   "id": "600e4ce6",
   "metadata": {},
   "source": [
    "## Data processing node"
   ]
  },
  {
   "cell_type": "code",
   "execution_count": null,
   "id": "79595161",
   "metadata": {
    "ExecuteTime": {
     "end_time": "2022-02-05T20:34:57.138230Z",
     "start_time": "2022-02-05T20:34:57.138122Z"
    }
   },
   "outputs": [],
   "source": [
    "import pandas as pd\n",
    "\n",
    "\n",
    "# string for true\n",
    "def _is_true(x):\n",
    "    return x == \"t\"\n",
    "\n",
    "# remove % from dataset\n",
    "def _parse_percentage(x):\n",
    "    x = x.str.replace(\"%\", \"\")\n",
    "    x = x.astype(float) / 100\n",
    "    return x\n",
    "\n",
    "# replace $ with nothing and , with nothing\n",
    "def _parse_money(x):\n",
    "    x = x.str.replace(\"$\", \"\").str.replace(\",\", \"\")\n",
    "    x = x.astype(float)\n",
    "    return x\n",
    "\n",
    "# Effective nodes \n",
    "\n",
    "# if it is true, return \"t\" for iata_approved\n",
    "# convert company rating to float\n",
    "def preprocess_companies(companies: pd.DataFrame) -> pd.DataFrame:\n",
    "    \"\"\"Preprocesses the data for companies.\n",
    "\n",
    "    Args:\n",
    "        companies: Raw data.\n",
    "    Returns:\n",
    "        Preprocessed data, with `company_rating` converted to a float and\n",
    "        `iata_approved` converted to boolean.\n",
    "    \"\"\"\n",
    "    companies[\"iata_approved\"] = _is_true(companies[\"iata_approved\"])\n",
    "    companies[\"company_rating\"] = _parse_percentage(companies[\"company_rating\"])\n",
    "    \n",
    "    # convert it to parquet\n",
    "    return companies\n",
    "\n",
    "# if it is true return \"t\" for d_check_complete\n",
    "# if it is true return \"t\" for moon_clearence_complete\n",
    "# convert price to float\n",
    "def preprocess_shuttles(shuttles: pd.DataFrame) -> pd.DataFrame:\n",
    "    \"\"\"Preprocesses the data for shuttles.\n",
    "\n",
    "    Args:\n",
    "        shuttles: Raw data.\n",
    "    Returns:\n",
    "        Preprocessed data, with `price` converted to a float and `d_check_complete`,\n",
    "        `moon_clearance_complete` converted to boolean.\n",
    "    \"\"\"\n",
    "    shuttles[\"d_check_complete\"] = _is_true(shuttles[\"d_check_complete\"])\n",
    "    shuttles[\"moon_clearance_complete\"] = _is_true(shuttles[\"moon_clearance_complete\"])\n",
    "    shuttles[\"price\"] = _parse_money(shuttles[\"price\"])\n",
    "    return shuttles"
   ]
  },
  {
   "cell_type": "code",
   "execution_count": null,
   "id": "dbef19dd",
   "metadata": {},
   "outputs": [],
   "source": []
  }
 ],
 "metadata": {
  "kernelspec": {
   "display_name": "spaceflights",
   "language": "python",
   "name": "python3"
  },
  "language_info": {
   "codemirror_mode": {
    "name": "ipython",
    "version": 3
   },
   "file_extension": ".py",
   "mimetype": "text/x-python",
   "name": "python",
   "nbconvert_exporter": "python",
   "pygments_lexer": "ipython3",
   "version": "3.7.6"
  },
  "toc": {
   "base_numbering": 1,
   "nav_menu": {},
   "number_sections": true,
   "sideBar": true,
   "skip_h1_title": false,
   "title_cell": "Table of Contents",
   "title_sidebar": "Contents",
   "toc_cell": false,
   "toc_position": {},
   "toc_section_display": true,
   "toc_window_display": true
  },
  "varInspector": {
   "cols": {
    "lenName": 16,
    "lenType": 16,
    "lenVar": 40
   },
   "kernels_config": {
    "python": {
     "delete_cmd_postfix": "",
     "delete_cmd_prefix": "del ",
     "library": "var_list.py",
     "varRefreshCmd": "print(var_dic_list())"
    },
    "r": {
     "delete_cmd_postfix": ") ",
     "delete_cmd_prefix": "rm(",
     "library": "var_list.r",
     "varRefreshCmd": "cat(var_dic_list()) "
    }
   },
   "types_to_exclude": [
    "module",
    "function",
    "builtin_function_or_method",
    "instance",
    "_Feature"
   ],
   "window_display": false
  }
 },
 "nbformat": 4,
 "nbformat_minor": 5
}
