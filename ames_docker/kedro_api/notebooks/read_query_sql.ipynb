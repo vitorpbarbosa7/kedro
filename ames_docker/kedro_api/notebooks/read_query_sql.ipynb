{
 "cells": [
  {
   "cell_type": "code",
   "execution_count": 1,
   "id": "856642fb",
   "metadata": {
    "ExecuteTime": {
     "end_time": "2022-06-14T23:58:33.706041Z",
     "start_time": "2022-06-14T23:58:30.533043Z"
    }
   },
   "outputs": [
    {
     "name": "stdout",
     "output_type": "stream",
     "text": [
      "2022-06-14 20:58:30,751 - root - INFO - Updated path to Kedro project: /Users/vpb/Documents/01_ds/git/03_kedro/ames_docker/kedro_api\n",
      "2022-06-14 20:58:30,892 - kedro.framework.session.store - INFO - `read()` not implemented for `BaseSessionStore`. Assuming empty store.\n"
     ]
    },
    {
     "name": "stderr",
     "output_type": "stream",
     "text": [
      "/Users/vpb/anaconda3/envs/kenv/lib/python3.7/site-packages/pandas/compat/numpy/__init__.py:10: DeprecationWarning: distutils Version classes are deprecated. Use packaging.version instead.\n",
      "  _nlv = LooseVersion(_np_version)\n",
      "/Users/vpb/anaconda3/envs/kenv/lib/python3.7/site-packages/pandas/compat/numpy/__init__.py:11: DeprecationWarning: distutils Version classes are deprecated. Use packaging.version instead.\n",
      "  np_version_under1p17 = _nlv < LooseVersion(\"1.17\")\n",
      "/Users/vpb/anaconda3/envs/kenv/lib/python3.7/site-packages/pandas/compat/numpy/__init__.py:12: DeprecationWarning: distutils Version classes are deprecated. Use packaging.version instead.\n",
      "  np_version_under1p18 = _nlv < LooseVersion(\"1.18\")\n",
      "/Users/vpb/anaconda3/envs/kenv/lib/python3.7/site-packages/pandas/compat/numpy/__init__.py:13: DeprecationWarning: distutils Version classes are deprecated. Use packaging.version instead.\n",
      "  _np_version_under1p19 = _nlv < LooseVersion(\"1.19\")\n",
      "/Users/vpb/anaconda3/envs/kenv/lib/python3.7/site-packages/pandas/compat/numpy/__init__.py:14: DeprecationWarning: distutils Version classes are deprecated. Use packaging.version instead.\n",
      "  _np_version_under1p20 = _nlv < LooseVersion(\"1.20\")\n",
      "/Users/vpb/anaconda3/envs/kenv/lib/python3.7/site-packages/setuptools/_distutils/version.py:351: DeprecationWarning: distutils Version classes are deprecated. Use packaging.version instead.\n",
      "  other = LooseVersion(other)\n",
      "/Users/vpb/anaconda3/envs/kenv/lib/python3.7/site-packages/pandas/compat/numpy/function.py:120: DeprecationWarning: distutils Version classes are deprecated. Use packaging.version instead.\n",
      "  if LooseVersion(__version__) >= LooseVersion(\"1.17.0\"):\n"
     ]
    },
    {
     "name": "stdout",
     "output_type": "stream",
     "text": [
      "2022-06-14 20:58:32,477 - root - INFO - ** Kedro project ames\n",
      "2022-06-14 20:58:32,478 - root - INFO - Defined global variable `context`, `session`, `catalog` and `pipelines`\n",
      "2022-06-14 20:58:33,497 - root - INFO - Registered line magic `run_viz`\n",
      "2022-06-14 20:58:33,497 - root - INFO - No path argument was provided. Using: /Users/vpb/Documents/01_ds/git/03_kedro/ames_docker/kedro_api\n",
      "2022-06-14 20:58:33,621 - kedro.framework.session.store - INFO - `read()` not implemented for `BaseSessionStore`. Assuming empty store.\n",
      "2022-06-14 20:58:33,694 - root - INFO - ** Kedro project ames\n",
      "2022-06-14 20:58:33,695 - root - INFO - Defined global variable `context`, `session`, `catalog` and `pipelines`\n",
      "2022-06-14 20:58:33,703 - root - INFO - Registered line magic `run_viz`\n"
     ]
    }
   ],
   "source": [
    "from jinja2 import Template\n",
    "\n",
    "%load_ext kedro.extras.extensions.ipython\n",
    "%reload_kedro"
   ]
  },
  {
   "cell_type": "code",
   "execution_count": 29,
   "id": "a57ad12e",
   "metadata": {
    "ExecuteTime": {
     "end_time": "2022-06-15T00:06:16.100728Z",
     "start_time": "2022-06-15T00:06:16.093282Z"
    }
   },
   "outputs": [
    {
     "name": "stdout",
     "output_type": "stream",
     "text": [
      "{'_inner_hookexec': <function _multicall at 0x7fb959d56488>,\n",
      " '_name2plugin': {'140434101177032': <ames.hooks.ProjectHooks object at 0x7fb95cb70ac8>},\n",
      " '_plugin2hookcallers': {<ames.hooks.ProjectHooks object at 0x7fb95cb70ac8>: []},\n",
      " '_plugin_distinfo': [],\n",
      " 'hook': <pluggy._hooks._HookRelay object at 0x7fb95cb707f0>,\n",
      " 'project_name': 'kedro',\n",
      " 'trace': <pluggy._tracing.TagTracerSub object at 0x7fb95cb70780>}\n"
     ]
    }
   ],
   "source": [
    "from pprint import pprint\n",
    "pprint(vars(context._hook_manager))"
   ]
  },
  {
   "cell_type": "code",
   "execution_count": 94,
   "id": "14b96084",
   "metadata": {},
   "outputs": [
    {
     "name": "stdout",
     "output_type": "stream",
     "text": [
      "2022-04-22 19:36:11,759 - kedro.io.data_catalog - INFO - Loading data from `alldata` (CSVDataSet)...\n",
      "2022-04-22 19:36:11,779 - kedro.io.data_catalog - INFO - Loading data from `query` (TextDataSet)...\n",
      "select\n",
      "    user_id\n",
      "    , count(*) as num_transactions\n",
      "    , sum(amount) as total_amount\n",
      "from\n",
      "    transactions\n",
      "where\n",
      "    user_id = {{ ref }}\n",
      "    and transaction_date = {{ particao_publico }}\n",
      "group by\n",
      "    user_id\n"
     ]
    }
   ],
   "source": [
    "alldata = catalog.load('alldata')\n",
    "\n",
    "query = catalog.load('query')\n",
    "\n",
    "print(query)"
   ]
  },
  {
   "cell_type": "code",
   "execution_count": 95,
   "id": "64f3eb29",
   "metadata": {},
   "outputs": [],
   "source": [
    "ref = '202202'\n",
    "particao_publico = 'teste_v1'\n",
    "\n",
    "params = {\n",
    "    'ref': ref,\n",
    "    'particao_publico': particao_publico\n",
    "}"
   ]
  },
  {
   "cell_type": "code",
   "execution_count": 96,
   "id": "925e683e",
   "metadata": {},
   "outputs": [
    {
     "name": "stdout",
     "output_type": "stream",
     "text": [
      "select\n",
      "    user_id\n",
      "    , count(*) as num_transactions\n",
      "    , sum(amount) as total_amount\n",
      "from\n",
      "    transactions\n",
      "where\n",
      "    user_id = 202202\n",
      "    and transaction_date = teste_v1\n",
      "group by\n",
      "    user_id\n"
     ]
    }
   ],
   "source": [
    "query_template = Template(query)\n",
    "\n",
    "query_final = query_template.render(params)\n",
    "\n",
    "print(query_final)"
   ]
  }
 ],
 "metadata": {
  "kernelspec": {
   "display_name": "Python 3 (ipykernel)",
   "language": "python",
   "name": "python3"
  },
  "language_info": {
   "codemirror_mode": {
    "name": "ipython",
    "version": 3
   },
   "file_extension": ".py",
   "mimetype": "text/x-python",
   "name": "python",
   "nbconvert_exporter": "python",
   "pygments_lexer": "ipython3",
   "version": "3.7.2"
  },
  "toc": {
   "base_numbering": 1,
   "nav_menu": {},
   "number_sections": true,
   "sideBar": true,
   "skip_h1_title": false,
   "title_cell": "Table of Contents",
   "title_sidebar": "Contents",
   "toc_cell": false,
   "toc_position": {},
   "toc_section_display": true,
   "toc_window_display": false
  }
 },
 "nbformat": 4,
 "nbformat_minor": 5
}
